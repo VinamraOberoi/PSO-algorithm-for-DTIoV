{
  "nbformat": 4,
  "nbformat_minor": 0,
  "metadata": {
    "colab": {
      "provenance": [],
      "authorship_tag": "ABX9TyMlKxoggxkaBCPGSb1IVocr",
      "include_colab_link": true
    },
    "kernelspec": {
      "name": "python3",
      "display_name": "Python 3"
    },
    "language_info": {
      "name": "python"
    }
  },
  "cells": [
    {
      "cell_type": "markdown",
      "metadata": {
        "id": "view-in-github",
        "colab_type": "text"
      },
      "source": [
        "<a href=\"https://colab.research.google.com/github/VinamraOberoi/PSO-algorithm-for-DTIoV/blob/main/PSO_algorithm_v2.ipynb\" target=\"_parent\"><img src=\"https://colab.research.google.com/assets/colab-badge.svg\" alt=\"Open In Colab\"/></a>"
      ]
    },
    {
      "cell_type": "code",
      "execution_count": 47,
      "metadata": {
        "id": "vtzwdWXCpu1A"
      },
      "outputs": [],
      "source": [
        "import geopandas as gpd\n",
        "import random\n",
        "from shapely.geometry import Point\n",
        "import folium\n",
        "import numpy as np\n",
        "import matplotlib.pyplot as plt\n",
        "from shapely.geometry import Polygon\n",
        "import shapely.geometry"
      ]
    },
    {
      "cell_type": "code",
      "source": [
        "# Load the GeoJSON file for Delhi (replace 'delhi_boundary.geojson' with your actual GeoJSON file path)\n",
        "geojson_file = 'delhi_boundary.geojson'"
      ],
      "metadata": {
        "id": "0QTKzbMOp36x"
      },
      "execution_count": 48,
      "outputs": []
    },
    {
      "cell_type": "code",
      "source": [
        "# Load Delhi boundaries using GeoPandas\n",
        "delhi_gdf = gpd.read_file(geojson_file)"
      ],
      "metadata": {
        "id": "U8ys74Ump8sd"
      },
      "execution_count": 49,
      "outputs": []
    },
    {
      "cell_type": "code",
      "source": [
        "# Extract the polygon boundary of Delhi\n",
        "delhi_polygon = delhi_gdf['geometry'].values[0]"
      ],
      "metadata": {
        "id": "t-ytefKkqDTg"
      },
      "execution_count": 50,
      "outputs": []
    },
    {
      "cell_type": "code",
      "source": [
        "# Function to generate random points within the Delhi polygon\n",
        "def generate_random_points_within_polygon(polygon, num_points):\n",
        "    points = []\n",
        "    minx, miny, maxx, maxy = polygon.bounds  # Bounding box of the polygon\n",
        "    while len(points) < num_points:\n",
        "        random_point = Point(random.uniform(minx, maxx), random.uniform(miny, maxy))\n",
        "        if polygon.contains(random_point):  # Ensure the point is within the polygon\n",
        "            points.append([random_point.y, random_point.x])  # Latitude, Longitude\n",
        "    return points"
      ],
      "metadata": {
        "id": "FYYqna73qGAi"
      },
      "execution_count": 51,
      "outputs": []
    },
    {
      "cell_type": "code",
      "source": [
        "# Generate the datasets\n",
        "num_vehicles = 1000\n",
        "num_rsus = 100\n",
        "num_mbs = 20\n",
        "\n",
        "delhi_streets_grid = {\n",
        "    # Generate 1000 Vehicle Locations within Delhi\n",
        "    \"Vehicle_Locations\": generate_random_points_within_polygon(delhi_polygon, num_vehicles),\n",
        "\n",
        "    # Generate 100 RSU Locations within Delhi\n",
        "    \"RSU_Locations\": generate_random_points_within_polygon(delhi_polygon, num_rsus),\n",
        "\n",
        "    # Generate 20 MBS Locations within Delhi\n",
        "    \"MBS_Locations\": generate_random_points_within_polygon(delhi_polygon, num_mbs),\n",
        "\n",
        "    # Cloud Location fixed in Connaught Place, Delhi\n",
        "    \"Cloud_Location\": [28.6139, 77.2090]  # Cloud server at Connaught Place, central Delhi\n",
        "}"
      ],
      "metadata": {
        "id": "LAIZI0DAqppj"
      },
      "execution_count": 52,
      "outputs": []
    },
    {
      "cell_type": "code",
      "source": [
        "# Particle Swarm Optimization (PSO) Parameters\n",
        "num_iterations = 100  # Number of iterations for each swarm\n",
        "w = 0.5  # Inertia weight\n",
        "c1 = 1.5  # Cognitive parameter (particle's own best)\n",
        "c2 = 1.5  # Social parameter (swarm's global best)"
      ],
      "metadata": {
        "id": "B0C7op2BqwQO"
      },
      "execution_count": 53,
      "outputs": []
    },
    {
      "cell_type": "code",
      "source": [
        "# Task sizes and latencies (random values for simplicity)\n",
        "num_tasks = len(delhi_streets_grid['Vehicle_Locations'])\n",
        "task_sizes = np.random.uniform(0.5, 5, num_tasks)  # Task size in MB\n",
        "task_latencies = np.random.uniform(10, 100, num_tasks)  # Task latency in ms"
      ],
      "metadata": {
        "id": "11-MHblKqy7Z"
      },
      "execution_count": 54,
      "outputs": []
    },
    {
      "cell_type": "code",
      "source": [
        "# Calculate distance between two geographical points\n",
        "def calculate_distance(coord1, coord2):\n",
        "    return np.sqrt((coord1[0] - coord2[0]) ** 2 + (coord1[1] - coord2[1]) ** 2)"
      ],
      "metadata": {
        "id": "OCdBTKsEq1VD"
      },
      "execution_count": 55,
      "outputs": []
    },
    {
      "cell_type": "code",
      "source": [
        "# Functions to compute latency based on allocation and vehicle distance from RSUs, MBS, and Cloud\n",
        "def compute_latency(position):\n",
        "    total_latency = 0\n",
        "    for i, allocation in enumerate(position):\n",
        "        vehicle_location = delhi_streets_grid[\"Vehicle_Locations\"][i]\n",
        "        if allocation == 0:  # Local processing\n",
        "            total_latency += 10  # Local processing latency\n",
        "        elif allocation == 1:  # RSU processing\n",
        "            rsu_location = random.choice(delhi_streets_grid[\"RSU_Locations\"])\n",
        "            distance = calculate_distance(vehicle_location, rsu_location)\n",
        "            total_latency += 30 + distance  # RSU latency + distance\n",
        "        elif allocation == 2:  # MBS processing\n",
        "            mbs_location = random.choice(delhi_streets_grid[\"MBS_Locations\"])\n",
        "            distance = calculate_distance(vehicle_location, mbs_location)\n",
        "            total_latency += 50 + distance  # MBS latency + distance\n",
        "        elif allocation == 3:  # Cloud processing\n",
        "            cloud_location = delhi_streets_grid[\"Cloud_Location\"]\n",
        "            distance = calculate_distance(vehicle_location, cloud_location)\n",
        "            total_latency += 100 + distance  # Cloud latency + distance\n",
        "    return total_latency"
      ],
      "metadata": {
        "id": "wAfyU0bQq3qz"
      },
      "execution_count": 56,
      "outputs": []
    },
    {
      "cell_type": "code",
      "source": [
        "# Function to compute system throughput based on task allocation\n",
        "def compute_throughput(position):\n",
        "    total_throughput = 0\n",
        "    for i, allocation in enumerate(position):\n",
        "        task_size = task_sizes[i]\n",
        "        if allocation == 0:  # Local processing\n",
        "            total_throughput += task_size / 10\n",
        "        elif allocation == 1:  # RSU processing\n",
        "            total_throughput += task_size / 30\n",
        "        elif allocation == 2:  # MBS processing\n",
        "            total_throughput += task_size / 50\n",
        "        elif allocation == 3:  # Cloud processing\n",
        "            total_throughput += task_size / 100\n",
        "    return total_throughput"
      ],
      "metadata": {
        "id": "4YdeHb6Jq6LC"
      },
      "execution_count": 57,
      "outputs": []
    },
    {
      "cell_type": "code",
      "source": [
        "# Fitness function combining latency and throughput\n",
        "def fitness_function(position):\n",
        "    latency = compute_latency(position)\n",
        "    throughput = compute_throughput(position)\n",
        "    return 0.5 * latency + 0.5 * (1 / throughput)"
      ],
      "metadata": {
        "id": "yBYQlWA9q85w"
      },
      "execution_count": 58,
      "outputs": []
    },
    {
      "cell_type": "code",
      "source": [
        "# Create Folium map centered in Delhi\n",
        "m = folium.Map(location=[28.6139, 77.2090], zoom_start=11)"
      ],
      "metadata": {
        "id": "8oPBkcCBwjb9"
      },
      "execution_count": 59,
      "outputs": []
    },
    {
      "cell_type": "code",
      "source": [
        "# Add RSU markers to the map\n",
        "for location in delhi_streets_grid[\"RSU_Locations\"]:\n",
        "    folium.Marker(location=location, popup=\"RSU\", icon=folium.Icon(color=\"green\")).add_to(m)"
      ],
      "metadata": {
        "id": "QmiJrT0cwnD1"
      },
      "execution_count": 60,
      "outputs": []
    },
    {
      "cell_type": "code",
      "source": [
        "# Add MBS markers to the map\n",
        "for location in delhi_streets_grid[\"MBS_Locations\"]:\n",
        "    folium.Marker(location=location, popup=\"MBS\", icon=folium.Icon(color=\"orange\")).add_to(m)"
      ],
      "metadata": {
        "id": "CdQTdr-2wtac"
      },
      "execution_count": 61,
      "outputs": []
    },
    {
      "cell_type": "code",
      "source": [
        "# Add Cloud marker\n",
        "folium.Marker(location=delhi_streets_grid[\"Cloud_Location\"], popup=\"Cloud\", icon=folium.Icon(color=\"red\")).add_to(m)"
      ],
      "metadata": {
        "colab": {
          "base_uri": "https://localhost:8080/"
        },
        "id": "4RNuwcv9ww21",
        "outputId": "49231e8f-a67a-4237-eace-d5834edbc511"
      },
      "execution_count": 62,
      "outputs": [
        {
          "output_type": "execute_result",
          "data": {
            "text/plain": [
              "<folium.map.Marker at 0x7c6c87bfd630>"
            ]
          },
          "metadata": {},
          "execution_count": 62
        }
      ]
    },
    {
      "cell_type": "code",
      "source": [
        "# Function to run PSO and visualize swarm efficiency\n",
        "def run_pso_and_visualize():\n",
        "    fitness_history = {}\n",
        "    num_particles = 50  # Swarm size fixed for visualization\n",
        "    # Initialize particles_position as a float array to allow for float values during velocity updates\n",
        "    particles_position = np.random.randint(0, 4, size=(num_particles, num_tasks)).astype(float)\n",
        "    particles_velocity = np.random.uniform(-1, 1, (num_particles, num_tasks))\n",
        "\n",
        "    personal_best_position = np.copy(particles_position)\n",
        "    personal_best_fitness = np.inf * np.ones(num_particles)\n",
        "    global_best_position = None\n",
        "    global_best_fitness = np.inf\n",
        "\n",
        "    for iteration in range(num_iterations):\n",
        "        for i in range(num_particles):\n",
        "            current_fitness = fitness_function(particles_position[i])\n",
        "\n",
        "            # Update personal best\n",
        "            if current_fitness < personal_best_fitness[i]:\n",
        "                personal_best_fitness[i] = current_fitness\n",
        "                personal_best_position[i] = np.copy(particles_position[i])\n",
        "\n",
        "            # Update global best\n",
        "            if current_fitness < global_best_fitness:\n",
        "                global_best_fitness = current_fitness\n",
        "                global_best_position = np.copy(particles_position[i])\n",
        "\n",
        "        # Update particle velocities and positions\n",
        "        for i in range(num_particles):\n",
        "            r1 = np.random.rand(num_tasks)\n",
        "            r2 = np.random.rand(num_tasks)\n",
        "            particles_velocity[i] = (w * particles_velocity[i] +\n",
        "                                     c1 * r1 * (personal_best_position[i] - particles_position[i]) +\n",
        "                                     c2 * r2 * (global_best_position - particles_position[i]))\n",
        "            particles_position[i] += particles_velocity[i]\n",
        "            particles_position[i] = np.clip(np.round(particles_position[i]), 0, 3)\n",
        "\n",
        "        # Visualize the swarm allocation\n",
        "        for i, position in enumerate(particles_position):\n",
        "            vehicle_location = delhi_streets_grid[\"Vehicle_Locations\"][i]\n",
        "            if position[i] == 0:\n",
        "                folium.Marker(location=vehicle_location, popup=\"Vehicle - Local\", icon=folium.Icon(color=\"blue\", icon=\"cloud\")).add_to(m)\n",
        "            elif position[i] == 1:\n",
        "                folium.Marker(location=vehicle_location, popup=\"Vehicle - RSU\", icon=folium.Icon(color=\"green\", icon=\"cloud\")).add_to(m)\n",
        "            elif position[i] == 2:\n",
        "                folium.Marker(location=vehicle_location, popup=\"Vehicle - MBS\", icon=folium.Icon(color=\"orange\", icon=\"cloud\")).add_to(m)\n",
        "            elif position[i] == 3:\n",
        "                folium.Marker(location=vehicle_location, popup=\"Vehicle - Cloud\", icon=folium.Icon(color=\"red\", icon=\"cloud\")).add_to(m)\n",
        "\n",
        "    # Save map\n",
        "    m.save('delhi_pso_visualization.html')"
      ],
      "metadata": {
        "id": "keI7kgDKq_t-"
      },
      "execution_count": 63,
      "outputs": []
    },
    {
      "cell_type": "code",
      "source": [
        "# Run the PSO simulation and visualize the map\n",
        "run_pso_and_visualize()"
      ],
      "metadata": {
        "id": "bEHk31EtrIEN"
      },
      "execution_count": 64,
      "outputs": []
    },
    {
      "cell_type": "code",
      "source": [],
      "metadata": {
        "id": "1-2dtS-qrKe3"
      },
      "execution_count": 64,
      "outputs": []
    }
  ]
}